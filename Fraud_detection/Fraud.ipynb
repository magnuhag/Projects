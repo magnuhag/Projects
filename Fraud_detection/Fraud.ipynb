{
 "cells": [
  {
   "cell_type": "markdown",
   "id": "efc2205c",
   "metadata": {},
   "source": [
    "# Fraud detection with machine learning\n",
    "\n",
    "<br>\n",
    "<br>\n",
    "\n",
    "We are going to analyze the fraud detection bank dataset (https://www.kaggle.com/code/dcw8161/fraud-detection-bank-dataset/data), and see if we can make a model that can reliably detect fraud. We start be importing the data "
   ]
  },
  {
   "cell_type": "code",
   "execution_count": 1,
   "id": "02e70385",
   "metadata": {},
   "outputs": [
    {
     "name": "stdout",
     "output_type": "stream",
     "text": [
      "   Unnamed: 0  col_0  col_1  col_2  col_3  col_4  col_5  col_6  col_7  col_8  \\\n",
      "0           0      9   1354      0     18      0      1      7      9      0   \n",
      "1           1      0    239      0      1      0      1      0      0      0   \n",
      "2           2      0    260      0      4      0      3      6      0      0   \n",
      "3           3     17    682      0      1      0      0      8     17      0   \n",
      "4           4      1    540      0      2      0      1      7      1      0   \n",
      "\n",
      "   ...  col_103  col_104  col_105  col_106  col_107  col_108  col_109  \\\n",
      "0  ...        0        0        0        1        1        0        0   \n",
      "1  ...        0        1        0        0        0        0        0   \n",
      "2  ...        0        0        0        1        1        0        0   \n",
      "3  ...        0        1        0        1        1        0        0   \n",
      "4  ...        0        0        0        1        1        0        0   \n",
      "\n",
      "   col_110  col_111  targets  \n",
      "0        0       49        1  \n",
      "1        0       55        1  \n",
      "2        0       56        1  \n",
      "3        0       65        1  \n",
      "4        0      175        1  \n",
      "\n",
      "[5 rows x 114 columns]\n"
     ]
    }
   ],
   "source": [
    "import numpy as np\n",
    "import pandas as pd\n",
    "import matplotlib.pyplot as plt\n",
    "\n",
    "from sklearn.utils import shuffle\n",
    "from sklearn.metrics import confusion_matrix\n",
    "\n",
    "df = pd.read_csv(\"fraud_detection_bank_dataset.csv\")\n",
    "\n",
    "\n",
    "print(df.head())"
   ]
  },
  {
   "cell_type": "markdown",
   "id": "1b2e339b",
   "metadata": {},
   "source": [
    "It is a bit unfortunate that we actually don't know what values the columns represent, as this is not explicitly explained by the columns or on Kaggle. But we soldier on.\n",
    "<br>\n",
    "<br>\n",
    "We want to drop the feature called Unnamed: 0 because it just counts the numer of rows. The rows are also arranged such that the $n$ first rows (let's say the total number of rows are $m$) are targets with value $v_i = 1,\\;\\;\\; i\\leq n$, and the remaining values are $v_i=0, \\;\\;\\; n<i\\leq m$. This makes it so that the first column can perfectly predict the targets. I will demonstrate this, but first let's seperate the targets from the main table"
   ]
  },
  {
   "cell_type": "code",
   "execution_count": 2,
   "id": "f2394f19",
   "metadata": {},
   "outputs": [],
   "source": [
    "targets = df[\"targets\"]\n",
    "first_column = df[\"Unnamed: 0\"]\n",
    "df.drop(\"targets\", inplace = True, axis = 1)\n",
    "df.drop('Unnamed: 0', inplace = True, axis = 1)\n",
    "X = pd.DataFrame.to_numpy(df)\n",
    "Y = np.asarray([val for val in targets])"
   ]
  },
  {
   "cell_type": "code",
   "execution_count": 3,
   "id": "fed5296d",
   "metadata": {},
   "outputs": [
    {
     "name": "stdout",
     "output_type": "stream",
     "text": [
      "5438\n"
     ]
    },
    {
     "data": {
      "text/plain": [
       "Text(0, 0.5, 'target')"
      ]
     },
     "execution_count": 3,
     "metadata": {},
     "output_type": "execute_result"
    },
    {
     "data": {
      "image/png": "[encoded data removed]",
      "text/plain": [
       "<Figure size 432x288 with 1 Axes>"
      ]
     },
     "metadata": {
      "needs_background": "light"
     },
     "output_type": "display_data"
    }
   ],
   "source": [
    "dividing_line = np.zeros(len(targets))\n",
    "index = 0\n",
    "\n",
    "for element in targets:\n",
    "    if element != 1:\n",
    "        print(index)\n",
    "        dividing_line[:] = index\n",
    "        break\n",
    "    else:\n",
    "        index += 1\n",
    "        \n",
    "plt.plot(first_column, targets, \"o\")\n",
    "plt.plot(dividing_line, first_column)\n",
    "plt.axis([0,len(targets),0,2])\n",
    "plt.xlabel(\"first column\")\n",
    "plt.ylabel(\"target\")"
   ]
  },
  {
   "cell_type": "markdown",
   "id": "4b901dde",
   "metadata": {},
   "source": [
    "As we see, we now have a classification model with $100\\%$ accuracy, that can be perfectly described by the following function\n",
    "$$\n",
    "y(x)=\n",
    "    \\begin{cases}\n",
    "        1, &  0<x<5438\\\\\n",
    "        0, &  5438\\leq x \\leq \\text{len}(\\text{targets})  \n",
    "    \\end{cases}\n",
    "\\\n",
    "$$"
   ]
  },
  {
   "cell_type": "markdown",
   "id": "d920052e",
   "metadata": {},
   "source": [
    "This is obviously just silly, and is purely an artifact of how the data is structured. This is why we delete the column  \"Unnamed: 0\""
   ]
  },
  {
   "cell_type": "markdown",
   "id": "7ed4a665",
   "metadata": {},
   "source": [
    "We now have a feature matrix $X$ with 112 columns. It might be a good idea to check whether we need all of these columns, or if we can get away with using fewer. We do this with principal component analysis (PCA)"
   ]
  },
  {
   "cell_type": "code",
   "execution_count": 4,
   "id": "38731513",
   "metadata": {},
   "outputs": [
    {
     "data": {
      "image/png": "[encoded data removed]",
      "text/plain": [
       "<Figure size 432x288 with 1 Axes>"
      ]
     },
     "metadata": {
      "needs_background": "light"
     },
     "output_type": "display_data"
    }
   ],
   "source": [
    "from sklearn.preprocessing import StandardScaler\n",
    "from sklearn.decomposition import PCA\n",
    "\n",
    "\n",
    "scaler = StandardScaler()\n",
    "X_scaled = scaler.fit(X.T).transform(X.T)\n",
    "#Doing PCA\n",
    "pca = PCA()\n",
    "pca.fit(X_scaled.T)\n",
    "pca_data = pca.transform(X_scaled.T)\n",
    "#Rounding off the percentages\n",
    "per_val = np.round(pca.explained_variance_ratio_*100, decimals = 1)\n",
    "#Labels of PC for plotting\n",
    "labels = df.keys()\n",
    "labels2 = np.arange(1,len(labels)+1)\n",
    "\n",
    "\n",
    "\n",
    "#We plot the 10 highest contributors\n",
    "plt.bar(x=range(1,11), height = per_val[0:10], tick_label = labels[0:10])\n",
    "plt.title(\"Principal Component Analysis of dataset\")\n",
    "plt.ylabel(\"Percentage of explained values\")\n",
    "plt.xlabel(\"Principal components\")\n",
    "plt.show()"
   ]
  },
  {
   "cell_type": "markdown",
   "id": "07f0716b",
   "metadata": {},
   "source": [
    "We can see that most of the variance comes from the 8 first columns. We can try to reduce the dataset to the 8 first columns, and see if there is a training time/ accuracy trade-off here"
   ]
  },
  {
   "cell_type": "code",
   "execution_count": 5,
   "id": "c0651264",
   "metadata": {},
   "outputs": [
    {
     "name": "stdout",
     "output_type": "stream",
     "text": [
      "Time to train on full dataset: 1.79 s\n",
      "Time to train on reduced dataset: 0.46 s\n",
      "Training accuracy on full dataset: 0.91\n",
      "Training accuracy on reduced dataset: 0.85\n"
     ]
    }
   ],
   "source": [
    "from sklearn.ensemble import AdaBoostClassifier\n",
    "from sklearn.ensemble import GradientBoostingClassifier\n",
    "from sklearn.metrics import accuracy_score\n",
    "from sklearn.model_selection import train_test_split\n",
    "from time import perf_counter\n",
    "\n",
    "#Create a dataset with only the 9 highest contributors\n",
    "X_reduced = X[:,0:8]\n",
    "\n",
    "\n",
    "X_train, X_test, X_train_reduced, X_test_reduced, y_train, y_test = train_test_split(X, X_reduced, Y, test_size = 0.2)\n",
    "\n",
    "\n",
    "\n",
    "t_train_start = perf_counter()\n",
    "\n",
    "model_full = AdaBoostClassifier()\n",
    "model_full.fit(X_train, y_train)\n",
    "predicted_full = model_full.predict(X_test)\n",
    "\n",
    "t_train_stop = perf_counter()\n",
    "t_total_full = t_train_stop-t_train_start\n",
    "\n",
    "t_train_start = perf_counter()\n",
    "\n",
    "model_reduced = AdaBoostClassifier()\n",
    "model_reduced.fit(X_train_reduced, y_train)\n",
    "predicted_reduced = model_reduced.predict(X_test_reduced)\n",
    "\n",
    "t_train_stop = perf_counter()\n",
    "t_total_reduced = t_train_stop-t_train_start\n",
    "\n",
    "S_f = accuracy_score(predicted_full, y_test)\n",
    "\n",
    "S_r = accuracy_score(predicted_reduced, y_test)\n",
    "\n",
    "print(\"Time to train on full dataset: %1.2f s\" %(t_total_full))\n",
    "print(\"Time to train on reduced dataset: %1.2f s\" %(t_total_reduced))\n",
    "print(\"Training accuracy on full dataset: %1.2f\" %(S_f))\n",
    "print(\"Training accuracy on reduced dataset: %1.2f\" %(S_r))"
   ]
  },
  {
   "cell_type": "markdown",
   "id": "e441cba1",
   "metadata": {},
   "source": [
    " We can see that we save a significant amount of time, although we do sacrifice a lot of accuracy. We move along with the reduced dataset, and see if we can make some decent predictions. The reason for this is that we can save a whole lot of time in training, if we can find a good enough model.\n",
    " <br>\n",
    " We start with cross validation"
   ]
  },
  {
   "cell_type": "code",
   "execution_count": 6,
   "id": "5c333463",
   "metadata": {},
   "outputs": [
    {
     "data": {
      "text/plain": [
       "array([0.86381679, 0.85312977, 0.83847328, 0.85129771, 0.85247404])"
      ]
     },
     "execution_count": 6,
     "metadata": {},
     "output_type": "execute_result"
    }
   ],
   "source": [
    "from sklearn.model_selection import cross_val_score\n",
    "from sklearn.utils import shuffle\n",
    "clf = AdaBoostClassifier()\n",
    "#shuffle(X_train_reduced, y_train)\n",
    "scores = cross_val_score(clf, X_train_reduced, y_train, cv = 5, scoring = \"accuracy\")\n",
    "scores"
   ]
  },
  {
   "cell_type": "markdown",
   "id": "b89f579a",
   "metadata": {},
   "source": [
    "That did not really improve anything. We can also do an (not really) exhaustive grid search, but before that we can check if the learning rate is of the correct order of magnitude. This is a largely useless excersise (in this case), but let's do it anyway"
   ]
  },
  {
   "cell_type": "code",
   "execution_count": 7,
   "id": "e80aa2c9",
   "metadata": {},
   "outputs": [],
   "source": [
    "#Use logspace when checking order of magnitude\n",
    "a = np.logspace(-10, 1, 100)\n",
    "accs2 = np.zeros(len(a))\n",
    "\n",
    "i = 0\n",
    "for lr in a:\n",
    "    model_reduced = AdaBoostClassifier(n_estimators = 40, learning_rate = lr)\n",
    "    model_reduced.fit(X_train_reduced, y_train)\n",
    "    pred_ada = model_reduced.predict(X_test_reduced)\n",
    "    accs2[i] = accuracy_score(pred_ada, y_test)\n",
    "    i += 1"
   ]
  },
  {
   "cell_type": "code",
   "execution_count": 8,
   "id": "464aeea8",
   "metadata": {},
   "outputs": [
    {
     "name": "stdout",
     "output_type": "stream",
     "text": [
      "1.0\n"
     ]
    },
    {
     "data": {
      "image/png": "[encoded data removed]",
      "text/plain": [
       "<Figure size 432x288 with 1 Axes>"
      ]
     },
     "metadata": {
      "needs_background": "light"
     },
     "output_type": "display_data"
    }
   ],
   "source": [
    "plt.plot(a, accs2)\n",
    "print(a[np.argmax(accs2)])\n"
   ]
  },
  {
   "cell_type": "markdown",
   "id": "5b84979f",
   "metadata": {},
   "source": [
    "We see that a  sensible learning rate $\\gamma$ will roughly be on the interval $\\gamma \\in [0.1, 1.9]$, so we use that. The number of estimators we let be between 1 and 50 "
   ]
  },
  {
   "cell_type": "code",
   "execution_count": 9,
   "id": "b7ff5d8c",
   "metadata": {},
   "outputs": [],
   "source": [
    "learning_rates = np.linspace(0.1, 2, 10)\n",
    "estimators = np.arange(1,50, 5)\n",
    "\n",
    "accs = np.zeros((len(estimators), len(learning_rates)))\n",
    "\n",
    "i = 0\n",
    "for est in estimators:\n",
    "    j = 0\n",
    "    for lr in learning_rates:\n",
    "        model_reduced = AdaBoostClassifier(n_estimators = est, learning_rate = lr)\n",
    "        model_reduced.fit(X_train_reduced, y_train)\n",
    "        pred_ada_2 = model_reduced.predict(X_test_reduced)\n",
    "        accs[i, j] = accuracy_score(pred_ada_2, y_test)\n",
    "        j += 1\n",
    "    i += 1\n"
   ]
  },
  {
   "cell_type": "code",
   "execution_count": 10,
   "id": "d7269baf",
   "metadata": {
    "scrolled": true
   },
   "outputs": [
    {
     "data": {
      "image/png": "[encoded data removed]",
      "text/plain": [
       "<Figure size 432x288 with 2 Axes>"
      ]
     },
     "metadata": {
      "needs_background": "light"
     },
     "output_type": "display_data"
    }
   ],
   "source": [
    "import seaborn as sb\n",
    "\n",
    "s = sb.heatmap(accs, annot = True, xticklabels = np.round(learning_rates, decimals = 2), yticklabels = estimators)\n",
    "s.set(xlabel = \"learning rates\", ylabel = \"number of estimators\")\n",
    "\n",
    "pred2 = model_reduced.predict(X_train_reduced)\n",
    "acc2 = accuracy_score(pred2, y_train)"
   ]
  },
  {
   "cell_type": "markdown",
   "id": "1dd90efa",
   "metadata": {},
   "source": [
    "A more exhaustive search proved to be unfruitful. We might have to try other methods if we want to achieve a higher accuracy. "
   ]
  },
  {
   "cell_type": "code",
   "execution_count": 11,
   "id": "2b950b2e",
   "metadata": {},
   "outputs": [],
   "source": [
    "boost = GradientBoostingClassifier()\n",
    "boost.fit(X_train_reduced, y_train)\n",
    "pred_boost = boost.predict(X_test_reduced)\n",
    "acc_boost = accuracy_score(pred_boost, y_test)\n"
   ]
  },
  {
   "cell_type": "code",
   "execution_count": 12,
   "id": "563a7012",
   "metadata": {},
   "outputs": [
    {
     "name": "stdout",
     "output_type": "stream",
     "text": [
      "0.8600390815828041\n"
     ]
    }
   ],
   "source": [
    "print(acc_boost)"
   ]
  },
  {
   "cell_type": "markdown",
   "id": "7ff34006",
   "metadata": {},
   "source": [
    "Without tweaking any parameters, we get a model equal to that of the AdaBoost. We might be able to improve the gradient boosted model with some parameter tuning, but I'm not going to do that."
   ]
  },
  {
   "cell_type": "markdown",
   "id": "53dfcffb",
   "metadata": {},
   "source": [
    "We have seen that the Adaboost method is not (in this case) particularly sensitive to learning rate and number of estimators, so it probably won't help us greatly trying to adjust these hyper-parameters. We could take a look at the base_estimator parameter (https://scikit-learn.org/stable/modules/generated/sklearn.ensemble.AdaBoostClassifier.html), and create a custom decision tree, but it probably won't increase accuracy significantly. Let me demonstrate"
   ]
  },
  {
   "cell_type": "code",
   "execution_count": 13,
   "id": "3f53b437",
   "metadata": {},
   "outputs": [
    {
     "data": {
      "text/plain": [
       "0.8326819736199316"
      ]
     },
     "execution_count": 13,
     "metadata": {},
     "output_type": "execute_result"
    }
   ],
   "source": [
    "from sklearn.tree import DecisionTreeClassifier\n",
    "from sklearn.experimental import enable_halving_search_cv\n",
    "\n",
    "base = DecisionTreeClassifier(max_depth = 6)\n",
    "\n",
    "model_deep = AdaBoostClassifier(base_estimator = base, n_estimators = 50, learning_rate = 1)\n",
    "model_deep.fit(X_train_reduced, y_train)\n",
    "pred_ada_base = model_deep.predict(X_test_reduced)\n",
    "\n",
    "accuracy_score(pred_ada_base,y_test)"
   ]
  },
  {
   "cell_type": "markdown",
   "id": "60e65ff9",
   "metadata": {},
   "source": [
    "Still no improvement. We could try using cross-validation, grid-search, or another method of parameter tuning, bit I think it's time we changed pace. Let's see if a basic neural network can help us crank that accuracy (and Soulja Boy)"
   ]
  },
  {
   "cell_type": "code",
   "execution_count": 14,
   "id": "63fbfd86",
   "metadata": {},
   "outputs": [],
   "source": [
    "from tensorflow.keras.models import Sequential\n",
    "from tensorflow.keras.layers import Dense\n",
    "import matplotlib.pyplot as plt\n",
    "\n",
    "#For one-hot encoding the targets\n",
    "def to_categorical_numpy(integer_vector):\n",
    "    n_inputs = len(integer_vector)\n",
    "    n_categories = np.max(integer_vector) + 1\n",
    "    onehot_vector = np.zeros((n_inputs, n_categories))\n",
    "    onehot_vector[range(n_inputs), integer_vector] = 1\n",
    "\n",
    "    return onehot_vector"
   ]
  },
  {
   "cell_type": "markdown",
   "id": "d6004e60",
   "metadata": {},
   "source": [
    "After some testing and tuning, I found the following architecture, optimizer, loss function, etc, to be working good (not optimal, but better than everything else i tried)"
   ]
  },
  {
   "cell_type": "code",
   "execution_count": 22,
   "id": "c5cc01f6",
   "metadata": {},
   "outputs": [
    {
     "name": "stdout",
     "output_type": "stream",
     "text": [
      "Epoch 1/100\n",
      "128/128 [==============================] - 1s 2ms/step - loss: 0.5302 - accuracy: 0.7352\n",
      "Epoch 2/100\n",
      "128/128 [==============================] - 0s 2ms/step - loss: 0.4806 - accuracy: 0.7784\n",
      "Epoch 3/100\n",
      "128/128 [==============================] - 0s 2ms/step - loss: 0.4429 - accuracy: 0.8117\n",
      "Epoch 4/100\n",
      "128/128 [==============================] - 0s 2ms/step - loss: 0.4223 - accuracy: 0.8234\n",
      "Epoch 5/100\n",
      "128/128 [==============================] - 0s 2ms/step - loss: 0.4123 - accuracy: 0.8286\n",
      "Epoch 6/100\n",
      "128/128 [==============================] - 0s 2ms/step - loss: 0.4060 - accuracy: 0.8309\n",
      "Epoch 7/100\n",
      "128/128 [==============================] - 0s 2ms/step - loss: 0.4030 - accuracy: 0.8320\n",
      "Epoch 8/100\n",
      "128/128 [==============================] - 0s 2ms/step - loss: 0.4011 - accuracy: 0.8325\n",
      "Epoch 9/100\n",
      "128/128 [==============================] - 0s 2ms/step - loss: 0.3983 - accuracy: 0.8347\n",
      "Epoch 10/100\n",
      "128/128 [==============================] - 0s 2ms/step - loss: 0.3969 - accuracy: 0.8352\n",
      "Epoch 11/100\n",
      "128/128 [==============================] - 0s 2ms/step - loss: 0.3955 - accuracy: 0.8336\n",
      "Epoch 12/100\n",
      "128/128 [==============================] - 0s 2ms/step - loss: 0.3939 - accuracy: 0.8351\n",
      "Epoch 13/100\n",
      "128/128 [==============================] - 0s 2ms/step - loss: 0.3921 - accuracy: 0.8372\n",
      "Epoch 14/100\n",
      "128/128 [==============================] - 0s 2ms/step - loss: 0.3910 - accuracy: 0.8364\n",
      "Epoch 15/100\n",
      "128/128 [==============================] - 0s 2ms/step - loss: 0.3892 - accuracy: 0.8361\n",
      "Epoch 16/100\n",
      "128/128 [==============================] - 0s 2ms/step - loss: 0.3866 - accuracy: 0.8360\n",
      "Epoch 17/100\n",
      "128/128 [==============================] - 0s 2ms/step - loss: 0.3857 - accuracy: 0.8386\n",
      "Epoch 18/100\n",
      "128/128 [==============================] - 0s 2ms/step - loss: 0.3852 - accuracy: 0.8372\n",
      "Epoch 19/100\n",
      "128/128 [==============================] - 0s 2ms/step - loss: 0.3832 - accuracy: 0.8397\n",
      "Epoch 20/100\n",
      "128/128 [==============================] - 0s 2ms/step - loss: 0.3824 - accuracy: 0.8389\n",
      "Epoch 21/100\n",
      "128/128 [==============================] - 0s 2ms/step - loss: 0.3812 - accuracy: 0.8391\n",
      "Epoch 22/100\n",
      "128/128 [==============================] - 0s 2ms/step - loss: 0.3799 - accuracy: 0.8390\n",
      "Epoch 23/100\n",
      "128/128 [==============================] - 0s 2ms/step - loss: 0.3789 - accuracy: 0.8394\n",
      "Epoch 24/100\n",
      "128/128 [==============================] - 0s 2ms/step - loss: 0.3776 - accuracy: 0.8412\n",
      "Epoch 25/100\n",
      "128/128 [==============================] - 0s 2ms/step - loss: 0.3771 - accuracy: 0.8391\n",
      "Epoch 26/100\n",
      "128/128 [==============================] - 0s 2ms/step - loss: 0.3747 - accuracy: 0.8405\n",
      "Epoch 27/100\n",
      "128/128 [==============================] - 0s 2ms/step - loss: 0.3737 - accuracy: 0.8410\n",
      "Epoch 28/100\n",
      "128/128 [==============================] - 0s 2ms/step - loss: 0.3726 - accuracy: 0.8416\n",
      "Epoch 29/100\n",
      "128/128 [==============================] - 0s 2ms/step - loss: 0.3713 - accuracy: 0.8440\n",
      "Epoch 30/100\n",
      "128/128 [==============================] - 0s 2ms/step - loss: 0.3698 - accuracy: 0.8428\n",
      "Epoch 31/100\n",
      "128/128 [==============================] - 0s 2ms/step - loss: 0.3695 - accuracy: 0.8419\n",
      "Epoch 32/100\n",
      "128/128 [==============================] - 0s 2ms/step - loss: 0.3685 - accuracy: 0.8434\n",
      "Epoch 33/100\n",
      "128/128 [==============================] - 0s 2ms/step - loss: 0.3676 - accuracy: 0.8426\n",
      "Epoch 34/100\n",
      "128/128 [==============================] - 0s 2ms/step - loss: 0.3659 - accuracy: 0.8438\n",
      "Epoch 35/100\n",
      "128/128 [==============================] - 0s 2ms/step - loss: 0.3658 - accuracy: 0.8431\n",
      "Epoch 36/100\n",
      "128/128 [==============================] - 0s 2ms/step - loss: 0.3643 - accuracy: 0.8450\n",
      "Epoch 37/100\n",
      "128/128 [==============================] - 0s 2ms/step - loss: 0.3638 - accuracy: 0.8455\n",
      "Epoch 38/100\n",
      "128/128 [==============================] - 0s 2ms/step - loss: 0.3631 - accuracy: 0.8457\n",
      "Epoch 39/100\n",
      "128/128 [==============================] - 0s 2ms/step - loss: 0.3628 - accuracy: 0.8470\n",
      "Epoch 40/100\n",
      "128/128 [==============================] - 0s 2ms/step - loss: 0.3619 - accuracy: 0.8463\n",
      "Epoch 41/100\n",
      "128/128 [==============================] - 0s 2ms/step - loss: 0.3618 - accuracy: 0.8459\n",
      "Epoch 42/100\n",
      "128/128 [==============================] - 0s 2ms/step - loss: 0.3608 - accuracy: 0.8454\n",
      "Epoch 43/100\n",
      "128/128 [==============================] - 0s 2ms/step - loss: 0.3610 - accuracy: 0.8455\n",
      "Epoch 44/100\n",
      "128/128 [==============================] - 0s 2ms/step - loss: 0.3592 - accuracy: 0.8470\n",
      "Epoch 45/100\n",
      "128/128 [==============================] - 0s 2ms/step - loss: 0.3599 - accuracy: 0.8482\n",
      "Epoch 46/100\n",
      "128/128 [==============================] - 0s 2ms/step - loss: 0.3588 - accuracy: 0.8463\n",
      "Epoch 47/100\n",
      "128/128 [==============================] - 0s 2ms/step - loss: 0.3586 - accuracy: 0.8470\n",
      "Epoch 48/100\n",
      "128/128 [==============================] - 0s 2ms/step - loss: 0.3581 - accuracy: 0.8470\n",
      "Epoch 49/100\n",
      "128/128 [==============================] - 0s 2ms/step - loss: 0.3577 - accuracy: 0.8480\n",
      "Epoch 50/100\n",
      "128/128 [==============================] - 0s 2ms/step - loss: 0.3571 - accuracy: 0.8477\n",
      "Epoch 51/100\n",
      "128/128 [==============================] - 0s 2ms/step - loss: 0.3561 - accuracy: 0.8482\n",
      "Epoch 52/100\n",
      "128/128 [==============================] - 0s 2ms/step - loss: 0.3563 - accuracy: 0.8480\n",
      "Epoch 53/100\n",
      "128/128 [==============================] - 0s 2ms/step - loss: 0.3558 - accuracy: 0.8474\n",
      "Epoch 54/100\n",
      "128/128 [==============================] - 0s 2ms/step - loss: 0.3552 - accuracy: 0.8493\n",
      "Epoch 55/100\n",
      "128/128 [==============================] - 0s 2ms/step - loss: 0.3549 - accuracy: 0.8484\n",
      "Epoch 56/100\n",
      "128/128 [==============================] - 0s 2ms/step - loss: 0.3560 - accuracy: 0.8477\n",
      "Epoch 57/100\n",
      "128/128 [==============================] - 0s 2ms/step - loss: 0.3544 - accuracy: 0.8498\n",
      "Epoch 58/100\n",
      "128/128 [==============================] - 0s 2ms/step - loss: 0.3547 - accuracy: 0.8486\n",
      "Epoch 59/100\n",
      "128/128 [==============================] - 0s 2ms/step - loss: 0.3539 - accuracy: 0.8498\n",
      "Epoch 60/100\n",
      "128/128 [==============================] - 0s 2ms/step - loss: 0.3531 - accuracy: 0.8488\n",
      "Epoch 61/100\n",
      "128/128 [==============================] - 0s 2ms/step - loss: 0.3535 - accuracy: 0.8492\n",
      "Epoch 62/100\n",
      "128/128 [==============================] - 0s 2ms/step - loss: 0.3527 - accuracy: 0.8504\n",
      "Epoch 63/100\n",
      "128/128 [==============================] - 0s 2ms/step - loss: 0.3524 - accuracy: 0.8488\n",
      "Epoch 64/100\n",
      "128/128 [==============================] - 0s 2ms/step - loss: 0.3525 - accuracy: 0.8495\n",
      "Epoch 65/100\n",
      "128/128 [==============================] - 0s 2ms/step - loss: 0.3519 - accuracy: 0.8495\n",
      "Epoch 66/100\n",
      "128/128 [==============================] - 0s 2ms/step - loss: 0.3519 - accuracy: 0.8503\n",
      "Epoch 67/100\n",
      "128/128 [==============================] - 0s 2ms/step - loss: 0.3530 - accuracy: 0.8488\n",
      "Epoch 68/100\n",
      "128/128 [==============================] - 0s 2ms/step - loss: 0.3519 - accuracy: 0.8495\n",
      "Epoch 69/100\n",
      "128/128 [==============================] - 0s 2ms/step - loss: 0.3510 - accuracy: 0.8503\n",
      "Epoch 70/100\n",
      "128/128 [==============================] - 0s 2ms/step - loss: 0.3503 - accuracy: 0.8504\n",
      "Epoch 71/100\n",
      "128/128 [==============================] - 0s 2ms/step - loss: 0.3507 - accuracy: 0.8506\n",
      "Epoch 72/100\n",
      "128/128 [==============================] - 0s 2ms/step - loss: 0.3493 - accuracy: 0.8513\n",
      "Epoch 73/100\n",
      "128/128 [==============================] - 0s 2ms/step - loss: 0.3498 - accuracy: 0.8504\n",
      "Epoch 74/100\n",
      "128/128 [==============================] - 0s 2ms/step - loss: 0.3500 - accuracy: 0.8485\n",
      "Epoch 75/100\n",
      "128/128 [==============================] - 0s 2ms/step - loss: 0.3500 - accuracy: 0.8497\n",
      "Epoch 76/100\n",
      "128/128 [==============================] - 0s 2ms/step - loss: 0.3495 - accuracy: 0.8500\n",
      "Epoch 77/100\n",
      "128/128 [==============================] - 0s 2ms/step - loss: 0.3487 - accuracy: 0.8495\n",
      "Epoch 78/100\n",
      "128/128 [==============================] - 0s 2ms/step - loss: 0.3482 - accuracy: 0.8512\n",
      "Epoch 79/100\n",
      "128/128 [==============================] - 0s 2ms/step - loss: 0.3491 - accuracy: 0.8507\n",
      "Epoch 80/100\n",
      "128/128 [==============================] - 0s 2ms/step - loss: 0.3482 - accuracy: 0.8494\n",
      "Epoch 81/100\n",
      "128/128 [==============================] - 0s 2ms/step - loss: 0.3477 - accuracy: 0.8512\n",
      "Epoch 82/100\n",
      "128/128 [==============================] - 0s 2ms/step - loss: 0.3476 - accuracy: 0.8492\n",
      "Epoch 83/100\n",
      "128/128 [==============================] - 0s 2ms/step - loss: 0.3477 - accuracy: 0.8505\n",
      "Epoch 84/100\n",
      "128/128 [==============================] - 0s 2ms/step - loss: 0.3475 - accuracy: 0.8507\n",
      "Epoch 85/100\n",
      "128/128 [==============================] - 0s 2ms/step - loss: 0.3470 - accuracy: 0.8499\n",
      "Epoch 86/100\n",
      "128/128 [==============================] - 0s 2ms/step - loss: 0.3470 - accuracy: 0.8507\n",
      "Epoch 87/100\n",
      "128/128 [==============================] - 0s 2ms/step - loss: 0.3469 - accuracy: 0.8512\n",
      "Epoch 88/100\n",
      "128/128 [==============================] - 0s 2ms/step - loss: 0.3468 - accuracy: 0.8506\n",
      "Epoch 89/100\n",
      "128/128 [==============================] - 0s 2ms/step - loss: 0.3461 - accuracy: 0.8513\n",
      "Epoch 90/100\n",
      "128/128 [==============================] - 0s 2ms/step - loss: 0.3459 - accuracy: 0.8516\n",
      "Epoch 91/100\n",
      "128/128 [==============================] - 0s 2ms/step - loss: 0.3459 - accuracy: 0.8520\n",
      "Epoch 92/100\n",
      "128/128 [==============================] - 0s 2ms/step - loss: 0.3467 - accuracy: 0.8512\n",
      "Epoch 93/100\n",
      "128/128 [==============================] - 0s 2ms/step - loss: 0.3460 - accuracy: 0.8510\n",
      "Epoch 94/100\n",
      "128/128 [==============================] - 0s 2ms/step - loss: 0.3463 - accuracy: 0.8508\n",
      "Epoch 95/100\n",
      "128/128 [==============================] - 0s 2ms/step - loss: 0.3448 - accuracy: 0.8507\n",
      "Epoch 96/100\n",
      "128/128 [==============================] - 0s 2ms/step - loss: 0.3452 - accuracy: 0.8515\n",
      "Epoch 97/100\n",
      "128/128 [==============================] - 0s 2ms/step - loss: 0.3463 - accuracy: 0.8506\n",
      "Epoch 98/100\n",
      "128/128 [==============================] - 0s 2ms/step - loss: 0.3448 - accuracy: 0.8513\n",
      "Epoch 99/100\n",
      "128/128 [==============================] - 0s 2ms/step - loss: 0.3448 - accuracy: 0.8512\n",
      "Epoch 100/100\n",
      "128/128 [==============================] - 0s 2ms/step - loss: 0.3450 - accuracy: 0.8510\n"
     ]
    },
    {
     "data": {
      "text/plain": [
       "<keras.callbacks.History at 0x7f03e81b8520>"
      ]
     },
     "execution_count": 22,
     "metadata": {},
     "output_type": "execute_result"
    }
   ],
   "source": [
    "y_onehot = to_categorical_numpy(Y)\n",
    "X_train, X_test, y_train_onehot, y_test_onehot, y_train, y_test = train_test_split(X_reduced, y_onehot, Y, test_size = 0.2 )\n",
    "\n",
    "in_size = len(X_train[0])\n",
    "out_size = len(y_train_onehot[0])\n",
    "\n",
    "model = Sequential()\n",
    "model.add(Dense(units = 512, activation = \"sigmoid\", input_dim = in_size))\n",
    "model.add(Dense(units = out_size, activation = \"softmax\"))\n",
    "model.compile(loss = \"BinaryCrossentropy\", optimizer = \"Adamax\", metrics = \"accuracy\")\n",
    "\n",
    "#KLDivergence\n",
    "#LogCosh\n",
    "\n",
    "model.fit(X_train, y_train_onehot, epochs = 100, batch_size = 128)\n",
    "\n",
    "\n"
   ]
  },
  {
   "cell_type": "code",
   "execution_count": 17,
   "id": "a5e002a2",
   "metadata": {},
   "outputs": [
    {
     "name": "stdout",
     "output_type": "stream",
     "text": [
      "test accuracy is 0.853199804592086\n"
     ]
    }
   ],
   "source": [
    "pred_nn = model.predict(X_test_reduced)\n",
    "s = 0\n",
    "for i in range(len(X_test)):\n",
    "    true = np.argmax(y_test_onehot[i])\n",
    "    guess = np.argmax(pred_nn[i])\n",
    "    if true == guess:\n",
    "        s += 1\n",
    "print(\"test accuracy is \" + str(s/len(y_test)))\n"
   ]
  },
  {
   "cell_type": "markdown",
   "id": "5ca5c80c",
   "metadata": {},
   "source": [
    "Still no improvement. Now let's try the neural net again with the full dataset, just because thus far the models we have made have been a bit sad"
   ]
  },
  {
   "cell_type": "code",
   "execution_count": 23,
   "id": "f18b3c6c",
   "metadata": {},
   "outputs": [
    {
     "name": "stdout",
     "output_type": "stream",
     "text": [
      "Epoch 1/100\n",
      "128/128 [==============================] - 1s 2ms/step - loss: 0.4220 - accuracy: 0.8211\n",
      "Epoch 2/100\n",
      "128/128 [==============================] - 0s 2ms/step - loss: 0.3686 - accuracy: 0.8483\n",
      "Epoch 3/100\n",
      "128/128 [==============================] - 0s 2ms/step - loss: 0.3364 - accuracy: 0.8757\n",
      "Epoch 4/100\n",
      "128/128 [==============================] - 0s 2ms/step - loss: 0.3148 - accuracy: 0.8868\n",
      "Epoch 5/100\n",
      "128/128 [==============================] - 0s 2ms/step - loss: 0.3002 - accuracy: 0.8902\n",
      "Epoch 6/100\n",
      "128/128 [==============================] - 0s 2ms/step - loss: 0.2888 - accuracy: 0.8948\n",
      "Epoch 7/100\n",
      "128/128 [==============================] - 0s 2ms/step - loss: 0.2807 - accuracy: 0.8969\n",
      "Epoch 8/100\n",
      "128/128 [==============================] - 0s 2ms/step - loss: 0.2738 - accuracy: 0.8999\n",
      "Epoch 9/100\n",
      "128/128 [==============================] - 0s 2ms/step - loss: 0.2689 - accuracy: 0.9017\n",
      "Epoch 10/100\n",
      "128/128 [==============================] - 0s 2ms/step - loss: 0.2649 - accuracy: 0.9024\n",
      "Epoch 11/100\n",
      "128/128 [==============================] - 0s 2ms/step - loss: 0.2613 - accuracy: 0.9030\n",
      "Epoch 12/100\n",
      "128/128 [==============================] - 0s 2ms/step - loss: 0.2584 - accuracy: 0.9049\n",
      "Epoch 13/100\n",
      "128/128 [==============================] - 0s 2ms/step - loss: 0.2555 - accuracy: 0.9070\n",
      "Epoch 14/100\n",
      "128/128 [==============================] - 0s 2ms/step - loss: 0.2526 - accuracy: 0.9075\n",
      "Epoch 15/100\n",
      "128/128 [==============================] - 0s 2ms/step - loss: 0.2510 - accuracy: 0.9076\n",
      "Epoch 16/100\n",
      "128/128 [==============================] - 0s 2ms/step - loss: 0.2491 - accuracy: 0.9086\n",
      "Epoch 17/100\n",
      "128/128 [==============================] - 0s 2ms/step - loss: 0.2460 - accuracy: 0.9102\n",
      "Epoch 18/100\n",
      "128/128 [==============================] - 0s 2ms/step - loss: 0.2455 - accuracy: 0.9092\n",
      "Epoch 19/100\n",
      "128/128 [==============================] - 0s 2ms/step - loss: 0.2431 - accuracy: 0.9116\n",
      "Epoch 20/100\n",
      "128/128 [==============================] - 0s 2ms/step - loss: 0.2411 - accuracy: 0.9113\n",
      "Epoch 21/100\n",
      "128/128 [==============================] - 0s 2ms/step - loss: 0.2402 - accuracy: 0.9120\n",
      "Epoch 22/100\n",
      "128/128 [==============================] - 0s 2ms/step - loss: 0.2388 - accuracy: 0.9131\n",
      "Epoch 23/100\n",
      "128/128 [==============================] - 0s 2ms/step - loss: 0.2382 - accuracy: 0.9138\n",
      "Epoch 24/100\n",
      "128/128 [==============================] - 0s 2ms/step - loss: 0.2366 - accuracy: 0.9139\n",
      "Epoch 25/100\n",
      "128/128 [==============================] - 0s 2ms/step - loss: 0.2368 - accuracy: 0.9142\n",
      "Epoch 26/100\n",
      "128/128 [==============================] - 0s 2ms/step - loss: 0.2348 - accuracy: 0.9139\n",
      "Epoch 27/100\n",
      "128/128 [==============================] - 0s 2ms/step - loss: 0.2346 - accuracy: 0.9158\n",
      "Epoch 28/100\n",
      "128/128 [==============================] - 0s 2ms/step - loss: 0.2327 - accuracy: 0.9165\n",
      "Epoch 29/100\n",
      "128/128 [==============================] - 0s 2ms/step - loss: 0.2309 - accuracy: 0.9171\n",
      "Epoch 30/100\n",
      "128/128 [==============================] - 0s 2ms/step - loss: 0.2306 - accuracy: 0.9175\n",
      "Epoch 31/100\n",
      "128/128 [==============================] - 0s 2ms/step - loss: 0.2300 - accuracy: 0.9182\n",
      "Epoch 32/100\n",
      "128/128 [==============================] - 0s 2ms/step - loss: 0.2293 - accuracy: 0.9184\n",
      "Epoch 33/100\n",
      "128/128 [==============================] - 0s 2ms/step - loss: 0.2280 - accuracy: 0.9180\n",
      "Epoch 34/100\n",
      "128/128 [==============================] - 0s 2ms/step - loss: 0.2272 - accuracy: 0.9189\n",
      "Epoch 35/100\n",
      "128/128 [==============================] - 0s 2ms/step - loss: 0.2264 - accuracy: 0.9190\n",
      "Epoch 36/100\n",
      "128/128 [==============================] - 0s 2ms/step - loss: 0.2258 - accuracy: 0.9191\n",
      "Epoch 37/100\n",
      "128/128 [==============================] - 0s 2ms/step - loss: 0.2244 - accuracy: 0.9210\n",
      "Epoch 38/100\n",
      "128/128 [==============================] - 0s 2ms/step - loss: 0.2229 - accuracy: 0.9204\n",
      "Epoch 39/100\n",
      "128/128 [==============================] - 0s 2ms/step - loss: 0.2212 - accuracy: 0.9204\n",
      "Epoch 40/100\n",
      "128/128 [==============================] - 0s 2ms/step - loss: 0.2215 - accuracy: 0.9205\n",
      "Epoch 41/100\n",
      "128/128 [==============================] - 0s 2ms/step - loss: 0.2206 - accuracy: 0.9216\n",
      "Epoch 42/100\n",
      "128/128 [==============================] - 0s 2ms/step - loss: 0.2204 - accuracy: 0.9203\n",
      "Epoch 43/100\n",
      "128/128 [==============================] - 0s 2ms/step - loss: 0.2201 - accuracy: 0.9215\n",
      "Epoch 44/100\n",
      "128/128 [==============================] - 0s 2ms/step - loss: 0.2200 - accuracy: 0.9218\n",
      "Epoch 45/100\n",
      "128/128 [==============================] - 0s 2ms/step - loss: 0.2206 - accuracy: 0.9202\n",
      "Epoch 46/100\n",
      "128/128 [==============================] - 0s 2ms/step - loss: 0.2193 - accuracy: 0.9223\n",
      "Epoch 47/100\n",
      "128/128 [==============================] - 0s 2ms/step - loss: 0.2180 - accuracy: 0.9226\n",
      "Epoch 48/100\n",
      "128/128 [==============================] - 0s 2ms/step - loss: 0.2168 - accuracy: 0.9229\n",
      "Epoch 49/100\n",
      "128/128 [==============================] - 0s 2ms/step - loss: 0.2159 - accuracy: 0.9226\n",
      "Epoch 50/100\n",
      "128/128 [==============================] - 0s 2ms/step - loss: 0.2172 - accuracy: 0.9220\n",
      "Epoch 51/100\n",
      "128/128 [==============================] - 0s 2ms/step - loss: 0.2158 - accuracy: 0.9225\n",
      "Epoch 52/100\n",
      "128/128 [==============================] - 0s 2ms/step - loss: 0.2156 - accuracy: 0.9216\n",
      "Epoch 53/100\n",
      "128/128 [==============================] - 0s 2ms/step - loss: 0.2157 - accuracy: 0.9238\n",
      "Epoch 54/100\n",
      "128/128 [==============================] - 0s 2ms/step - loss: 0.2140 - accuracy: 0.9230\n",
      "Epoch 55/100\n",
      "128/128 [==============================] - 0s 2ms/step - loss: 0.2138 - accuracy: 0.9239\n",
      "Epoch 56/100\n",
      "128/128 [==============================] - 0s 2ms/step - loss: 0.2131 - accuracy: 0.9239\n",
      "Epoch 57/100\n",
      "128/128 [==============================] - 0s 2ms/step - loss: 0.2140 - accuracy: 0.9241\n",
      "Epoch 58/100\n",
      "128/128 [==============================] - 0s 2ms/step - loss: 0.2139 - accuracy: 0.9249\n",
      "Epoch 59/100\n",
      "128/128 [==============================] - 0s 2ms/step - loss: 0.2114 - accuracy: 0.9253\n",
      "Epoch 60/100\n",
      "128/128 [==============================] - 0s 2ms/step - loss: 0.2107 - accuracy: 0.9247\n",
      "Epoch 61/100\n",
      "128/128 [==============================] - 0s 2ms/step - loss: 0.2128 - accuracy: 0.9248\n",
      "Epoch 62/100\n",
      "128/128 [==============================] - 0s 2ms/step - loss: 0.2103 - accuracy: 0.9248\n",
      "Epoch 63/100\n",
      "128/128 [==============================] - 0s 2ms/step - loss: 0.2106 - accuracy: 0.9252\n",
      "Epoch 64/100\n",
      "128/128 [==============================] - 0s 2ms/step - loss: 0.2093 - accuracy: 0.9251\n",
      "Epoch 65/100\n",
      "128/128 [==============================] - 0s 2ms/step - loss: 0.2093 - accuracy: 0.9247\n",
      "Epoch 66/100\n",
      "128/128 [==============================] - 0s 2ms/step - loss: 0.2102 - accuracy: 0.9250\n",
      "Epoch 67/100\n",
      "128/128 [==============================] - 0s 2ms/step - loss: 0.2096 - accuracy: 0.9261\n",
      "Epoch 68/100\n",
      "128/128 [==============================] - 0s 2ms/step - loss: 0.2090 - accuracy: 0.9261\n",
      "Epoch 69/100\n",
      "128/128 [==============================] - 0s 2ms/step - loss: 0.2095 - accuracy: 0.9250\n",
      "Epoch 70/100\n",
      "128/128 [==============================] - 0s 2ms/step - loss: 0.2092 - accuracy: 0.9252\n",
      "Epoch 71/100\n",
      "128/128 [==============================] - 0s 2ms/step - loss: 0.2101 - accuracy: 0.9260\n",
      "Epoch 72/100\n",
      "128/128 [==============================] - 0s 2ms/step - loss: 0.2079 - accuracy: 0.9263\n",
      "Epoch 73/100\n",
      "128/128 [==============================] - 0s 2ms/step - loss: 0.2066 - accuracy: 0.9269\n",
      "Epoch 74/100\n",
      "128/128 [==============================] - 0s 2ms/step - loss: 0.2066 - accuracy: 0.9261\n",
      "Epoch 75/100\n",
      "128/128 [==============================] - 0s 2ms/step - loss: 0.2065 - accuracy: 0.9262\n",
      "Epoch 76/100\n",
      "128/128 [==============================] - 0s 2ms/step - loss: 0.2058 - accuracy: 0.9263\n",
      "Epoch 77/100\n",
      "128/128 [==============================] - 0s 2ms/step - loss: 0.2057 - accuracy: 0.9270\n",
      "Epoch 78/100\n",
      "128/128 [==============================] - 0s 2ms/step - loss: 0.2042 - accuracy: 0.9279\n",
      "Epoch 79/100\n",
      "128/128 [==============================] - 0s 2ms/step - loss: 0.2032 - accuracy: 0.9282\n",
      "Epoch 80/100\n",
      "128/128 [==============================] - 0s 2ms/step - loss: 0.2035 - accuracy: 0.9277\n",
      "Epoch 81/100\n",
      "128/128 [==============================] - 0s 2ms/step - loss: 0.2030 - accuracy: 0.9288\n",
      "Epoch 82/100\n",
      "128/128 [==============================] - 0s 2ms/step - loss: 0.2030 - accuracy: 0.9284\n",
      "Epoch 83/100\n",
      "128/128 [==============================] - 0s 2ms/step - loss: 0.2035 - accuracy: 0.9288\n",
      "Epoch 84/100\n",
      "128/128 [==============================] - 0s 2ms/step - loss: 0.2036 - accuracy: 0.9282\n",
      "Epoch 85/100\n",
      "128/128 [==============================] - 0s 2ms/step - loss: 0.2025 - accuracy: 0.9284\n",
      "Epoch 86/100\n",
      "128/128 [==============================] - 0s 2ms/step - loss: 0.2022 - accuracy: 0.9287\n",
      "Epoch 87/100\n",
      "128/128 [==============================] - 0s 2ms/step - loss: 0.2011 - accuracy: 0.9293\n",
      "Epoch 88/100\n",
      "128/128 [==============================] - 0s 2ms/step - loss: 0.1993 - accuracy: 0.9309\n",
      "Epoch 89/100\n",
      "128/128 [==============================] - 0s 2ms/step - loss: 0.1988 - accuracy: 0.9308\n",
      "Epoch 90/100\n",
      "128/128 [==============================] - 0s 2ms/step - loss: 0.1988 - accuracy: 0.9308\n",
      "Epoch 91/100\n",
      "128/128 [==============================] - 0s 2ms/step - loss: 0.1994 - accuracy: 0.9320\n",
      "Epoch 92/100\n",
      "128/128 [==============================] - 0s 2ms/step - loss: 0.1975 - accuracy: 0.9307\n",
      "Epoch 93/100\n",
      "128/128 [==============================] - 0s 2ms/step - loss: 0.1981 - accuracy: 0.9308\n",
      "Epoch 94/100\n",
      "128/128 [==============================] - 0s 2ms/step - loss: 0.1972 - accuracy: 0.9317\n",
      "Epoch 95/100\n",
      "128/128 [==============================] - 0s 2ms/step - loss: 0.1979 - accuracy: 0.9300\n",
      "Epoch 96/100\n",
      "128/128 [==============================] - 0s 2ms/step - loss: 0.1970 - accuracy: 0.9315\n",
      "Epoch 97/100\n",
      "128/128 [==============================] - 0s 2ms/step - loss: 0.1965 - accuracy: 0.9323\n",
      "Epoch 98/100\n",
      "128/128 [==============================] - 0s 2ms/step - loss: 0.1961 - accuracy: 0.9315\n",
      "Epoch 99/100\n",
      "128/128 [==============================] - 0s 2ms/step - loss: 0.1960 - accuracy: 0.9316\n",
      "Epoch 100/100\n",
      "128/128 [==============================] - 0s 2ms/step - loss: 0.1963 - accuracy: 0.9331\n"
     ]
    },
    {
     "data": {
      "text/plain": [
       "<keras.callbacks.History at 0x7f03e0f8c3a0>"
      ]
     },
     "execution_count": 23,
     "metadata": {},
     "output_type": "execute_result"
    }
   ],
   "source": [
    "X_train, X_test, y_train_onehot, y_test_onehot, y_train, y_test = train_test_split(X, y_onehot, Y, test_size = 0.2 )\n",
    "\n",
    "in_size = len(X_train[0])\n",
    "out_size = len(y_train_onehot[0])\n",
    "\n",
    "model = Sequential()\n",
    "model.add(Dense(units = 512, activation = \"sigmoid\", input_dim = in_size))\n",
    "model.add(Dense(units = out_size, activation = \"softmax\"))\n",
    "model.compile(loss = \"BinaryCrossentropy\", optimizer = \"Adamax\", metrics = \"accuracy\")\n",
    "\n",
    "#KLDivergence\n",
    "#LogCosh\n",
    "\n",
    "model.fit(X_train, y_train_onehot, epochs = 100, batch_size = 128)"
   ]
  },
  {
   "cell_type": "markdown",
   "id": "1e229823",
   "metadata": {},
   "source": [
    "We're now back at an accuracy comparable to that of the first adaboost model. Let's take a look at the confusion matrix:"
   ]
  },
  {
   "cell_type": "code",
   "execution_count": 25,
   "id": "05a55de5",
   "metadata": {},
   "outputs": [
    {
     "name": "stdout",
     "output_type": "stream",
     "text": [
      "4094\n"
     ]
    },
    {
     "data": {
      "image/png": "[encoded data removed]",
      "text/plain": [
       "<Figure size 432x288 with 2 Axes>"
      ]
     },
     "metadata": {
      "needs_background": "light"
     },
     "output_type": "display_data"
    }
   ],
   "source": [
    "pred_new = np.zeros(len(pred_nn))\n",
    "i = 0\n",
    "for val in pred_nn:\n",
    "    pred_new[i] = np.argmax(pred_nn[i])\n",
    "    i += 1\n",
    "\n",
    "cm = confusion_matrix(y_test, pred_new)\n",
    "sb.heatmap(cm, annot = True)\n",
    "print(np.sum(cm))"
   ]
  },
  {
   "cell_type": "markdown",
   "id": "20d6138e",
   "metadata": {},
   "source": [
    "We see that our model would have to be significantly improved if we want to actually use it. If it were to be used as an assist tool it could be ok, but as an automated fraud detector/ preventor it will cause many people a lot of grief. \n",
    "<br>\n",
    "<br>\n",
    "As I've mentioned before, we don't know what each column in the dataset represent. But let's for a moment assume that they represent some information about bank transactions. If this is the case, a relatively large number ($\\sim 3.3\\%$) of false positives won't be a problem, because if a costumer gets flagged with having multiple predicted fraudulent transactions the probability of these being false is greatly reduced. Unless the machine learning model has falsly correlated some attributes as being predictors, and this costumer over-represent these attributes. A costumer with one positive out of many negatives may warrant investigation but one could perhaps assume the positive to be false. \n",
    "<br>\n",
    "<br>\n",
    "The false negatives are trickier as they won't be flagged at all, and will go on undetected. Unless someone with a high number of true positives also get a few negative predictions (false in this case), it's hard to do anything them at all.  \n",
    "<br>\n",
    "<br>\n",
    "To make a good model we will have to up the accuracy to at least $98-99\\%$. To do this, more data would be great. The more rows of data we have, the more probable it becomes that our model will achieve the desired accuracy. There is also a lot more that could be done in the model selection department. Building and tuning a neural network is a dark art and this notebook is just a demo of a few ML techniques and such. \n",
    "<br>\n"
   ]
  },
  {
   "cell_type": "code",
   "execution_count": null,
   "id": "6adbf1c1",
   "metadata": {},
   "outputs": [],
   "source": []
  }
 ],
 "metadata": {
  "kernelspec": {
   "display_name": "Python 3 (ipykernel)",
   "language": "python",
   "name": "python3"
  },
  "language_info": {
   "codemirror_mode": {
    "name": "ipython",
    "version": 3
   },
   "file_extension": ".py",
   "mimetype": "text/x-python",
   "name": "python",
   "nbconvert_exporter": "python",
   "pygments_lexer": "ipython3",
   "version": "3.10.5"
  }
 },
 "nbformat": 4,
 "nbformat_minor": 5
}
