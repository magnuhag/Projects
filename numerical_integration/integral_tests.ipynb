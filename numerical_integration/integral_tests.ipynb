{
 "cells": [
  {
   "cell_type": "code",
   "execution_count": 6,
   "id": "8d77088f-b01d-40f7-a9bf-611268296b80",
   "metadata": {},
   "outputs": [],
   "source": [
    "import numpy as np\n",
    "from integrator import integral_solver"
   ]
  },
  {
   "cell_type": "code",
   "execution_count": 7,
   "id": "57c1e5e5-6623-41f4-9d67-b8dc22c2aecd",
   "metadata": {},
   "outputs": [],
   "source": [
    "def f(x):\n",
    "    return np.exp(-x**2)"
   ]
  },
  {
   "cell_type": "code",
   "execution_count": 8,
   "id": "88b8c243-c1a1-4899-b170-b85d2c9a7bca",
   "metadata": {},
   "outputs": [
    {
     "name": "stdout",
     "output_type": "stream",
     "text": [
      "integral_solver(f=<function f at 0x7fbe82cfef80>, a=-inf, b=inf, n=1000, delta=1e-10)\n"
     ]
    }
   ],
   "source": [
    "integral = integral_solver(f, float(\"-inf\"), float(\"inf\"), 1000)\n",
    "print(integral)"
   ]
  },
  {
   "cell_type": "code",
   "execution_count": 9,
   "id": "d9663ec6-a09f-47a8-9880-d71dfa098918",
   "metadata": {},
   "outputs": [
    {
     "data": {
      "text/plain": [
       "1.7724538509055"
      ]
     },
     "execution_count": 9,
     "metadata": {},
     "output_type": "execute_result"
    }
   ],
   "source": [
    "integral.riemann()"
   ]
  },
  {
   "cell_type": "code",
   "execution_count": 10,
   "id": "750e68a9-9c95-4d87-87d6-8d74b667ba6a",
   "metadata": {},
   "outputs": [
    {
     "name": "stdout",
     "output_type": "stream",
     "text": [
      "1.7724538509055159\n"
     ]
    }
   ],
   "source": [
    "print(np.sqrt(np.pi))"
   ]
  },
  {
   "cell_type": "code",
   "execution_count": null,
   "id": "66571219-4fc0-4b83-ac15-fb2a73c415a6",
   "metadata": {},
   "outputs": [],
   "source": []
  }
 ],
 "metadata": {
  "kernelspec": {
   "display_name": "Python 3 (ipykernel)",
   "language": "python",
   "name": "python3"
  },
  "language_info": {
   "codemirror_mode": {
    "name": "ipython",
    "version": 3
   },
   "file_extension": ".py",
   "mimetype": "text/x-python",
   "name": "python",
   "nbconvert_exporter": "python",
   "pygments_lexer": "ipython3",
   "version": "3.7.10"
  }
 },
 "nbformat": 4,
 "nbformat_minor": 5
}
